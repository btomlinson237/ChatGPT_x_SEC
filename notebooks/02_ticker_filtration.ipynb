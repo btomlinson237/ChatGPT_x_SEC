{
 "cells": [
  {
   "cell_type": "code",
   "execution_count": 1,
   "metadata": {},
   "outputs": [],
   "source": [
    "import pandas as pd\n",
    "from pathlib import Path"
   ]
  },
  {
   "cell_type": "code",
   "execution_count": 2,
   "metadata": {},
   "outputs": [],
   "source": [
    "ticker_cik_df = pd.read_csv('../data/tickers/full_ticker_mapping.csv')"
   ]
  },
  {
   "cell_type": "code",
   "execution_count": 14,
   "metadata": {},
   "outputs": [],
   "source": [
    "energy_tickers = ['XOM', 'CVX', 'COP', 'EOG', 'PSX']\n",
    "materials_tickers = ['ECL', 'DOW', 'NEM', 'SHW', 'FCX']\n",
    "industrials_tickers = ['GE', 'CAT', 'MMM', 'HON', 'UNP']\n",
    "consumer_cyclical_tickers = ['PG', 'KO', 'PEP', 'WMT', 'PM']\n",
    "consumer_discretionary_tickers = ['AMZN', 'HD', 'DIS', 'MCD', 'NKE']\n",
    "healthcare_tickers = ['JNJ', 'PFE', 'UNH', 'MRK', 'ABT']\n",
    "financials_tickers = ['JPM', 'BRK.B', 'BAC', 'WFC', 'GS']\n",
    "information_tech_tickers = ['AAPL', 'MSFT', 'GOOGL', 'FB', 'INTC']\n",
    "communication_tickers = ['T', 'VZ', 'CMCSA', 'CHTR', 'DIS']\n",
    "utilities_tickers = ['NEE', 'DUK', 'D', 'EXC', 'AEP']\n",
    "real_estate_tickers = ['AMT', 'PLD', 'SPG', 'PSA', 'EQIX']\n",
    "\n",
    "all_sector_tickers = (\n",
    "    energy_tickers + materials_tickers + industrials_tickers +\n",
    "    consumer_cyclical_tickers + consumer_discretionary_tickers +\n",
    "    healthcare_tickers + financials_tickers + information_tech_tickers +\n",
    "    communication_tickers + utilities_tickers + real_estate_tickers\n",
    ")"
   ]
  },
  {
   "cell_type": "code",
   "execution_count": 15,
   "metadata": {},
   "outputs": [],
   "source": [
    "energy_filtered = ticker_cik_df[ticker_cik_df['Ticker'].isin(energy_tickers)]\n",
    "materials_filtered = ticker_cik_df[ticker_cik_df['Ticker'].isin(materials_tickers)]\n",
    "industrials_filtered = ticker_cik_df[ticker_cik_df['Ticker'].isin(industrials_tickers)]\n",
    "consumer_cyclical_filtered = ticker_cik_df[ticker_cik_df['Ticker'].isin(consumer_cyclical_tickers)]\n",
    "consumer_discretionary_filtered = ticker_cik_df[ticker_cik_df['Ticker'].isin(consumer_discretionary_tickers)]\n",
    "healthcare_filtered = ticker_cik_df[ticker_cik_df['Ticker'].isin(healthcare_tickers)]\n",
    "financials_filtered = ticker_cik_df[ticker_cik_df['Ticker'].isin(financials_tickers)]\n",
    "information_tech_filtered = ticker_cik_df[ticker_cik_df['Ticker'].isin(information_tech_tickers)]\n",
    "communication_filtered = ticker_cik_df[ticker_cik_df['Ticker'].isin(communication_tickers)]\n",
    "utilities_filtered = ticker_cik_df[ticker_cik_df['Ticker'].isin(utilities_tickers)]\n",
    "real_estate_filtered = ticker_cik_df[ticker_cik_df['Ticker'].isin(real_estate_tickers)]\n",
    "\n",
    "all_sector_filtered = ticker_cik_df[ticker_cik_df['Ticker'].isin(all_sector_tickers)]"
   ]
  },
  {
   "cell_type": "code",
   "execution_count": 8,
   "metadata": {},
   "outputs": [
    {
     "name": "stdout",
     "output_type": "stream",
     "text": [
      "          CIK Ticker                               Name Exchange\n",
      "1        1800    ABT                Abbott Laboratories     NYSE\n",
      "21       4904    AEP     American Electric Power Co Inc   Nasdaq\n",
      "112     18230    CAT                    Caterpillar Inc     NYSE\n",
      "132     19617    JPM                Jpmorgan Chase & Co     NYSE\n",
      "147     21344     KO                       Coca Cola Co     NYSE\n",
      "211     31462    ECL                        Ecolab Inc.     NYSE\n",
      "224     34088    XOM                   Exxon Mobil Corp     NYSE\n",
      "277     40545     GE                General Electric Co     NYSE\n",
      "329     50863   INTC                         Intel Corp   Nasdaq\n",
      "384     63908    MCD                     Mcdonalds Corp     NYSE\n",
      "407     66740    MMM                              3M Co     NYSE\n",
      "429     70858    BAC          Bank Of America Corp /De/     NYSE\n",
      "464     72971    WFC           Wells Fargo & Company/Mn     NYSE\n",
      "502     77476    PEP                        Pepsico Inc   Nasdaq\n",
      "504     78003    PFE                         Pfizer Inc     NYSE\n",
      "519     80424     PG                Procter & Gamble Co     NYSE\n",
      "552     89800    SHW                Sherwin Williams Co     NYSE\n",
      "586     93410    CVX                       Chevron Corp     NYSE\n",
      "640    100885    UNP                 Union Pacific Corp     NYSE\n",
      "659    104169    WMT                       Walmart Inc.     NYSE\n",
      "696    200406    JNJ                  Johnson & Johnson     NYSE\n",
      "722    310158    MRK                  Merck & Co., Inc.     NYSE\n",
      "825    320187    NKE                         Nike, Inc.     NYSE\n",
      "826    320193   AAPL                         Apple Inc.   Nasdaq\n",
      "853    354950     HD                   Home Depot, Inc.     NYSE\n",
      "936    715957      D               Dominion Energy, Inc     NYSE\n",
      "1035   731766    UNH             Unitedhealth Group Inc     NYSE\n",
      "1039   732712     VZ         Verizon Communications Inc     NYSE\n",
      "1040   732717      T                          At&T Inc.     NYSE\n",
      "1107   753308    NEE                 Nextera Energy Inc     NYSE\n",
      "1172   773840    HON        Honeywell International Inc   Nasdaq\n",
      "1202   789019   MSFT                     Microsoft Corp   Nasdaq\n",
      "1394   821189    EOG                  Eog Resources Inc     NYSE\n",
      "1452   831259    FCX               Freeport-Mcmoran Inc     NYSE\n",
      "1806   886982     GS            Goldman Sachs Group Inc     NYSE\n",
      "2511  1018724   AMZN                     Amazon Com Inc   Nasdaq\n",
      "2728  1045609    PLD                     Prologis, Inc.     NYSE\n",
      "2795  1053507    AMT           American Tower Corp /Ma/     NYSE\n",
      "2867  1063761    SPG      Simon Property Group Inc /De/     NYSE\n",
      "3063  1091667   CHTR  Charter Communications, Inc. /Mo/   Nasdaq\n",
      "3135  1101239   EQIX                        Equinix Inc   Nasdaq\n",
      "3181  1109357    EXC                        Exelon Corp   Nasdaq\n",
      "3499  1163165    COP                     Conocophillips     NYSE\n",
      "3513  1164727    NEM                  Newmont Corp /De/     NYSE\n",
      "3527  1166691  CMCSA                       Comcast Corp   Nasdaq\n",
      "4135  1326160    DUK                   Duke Energy Corp     NYSE\n",
      "4569  1393311    PSA                     Public Storage     NYSE\n",
      "4758  1413329     PM   Philip Morris International Inc.     NYSE\n",
      "5849  1534701    PSX                        Phillips 66     NYSE\n",
      "6871  1652044  GOOGL                      Alphabet Inc.   Nasdaq\n",
      "7677  1744489    DIS                     Walt Disney Co     NYSE\n",
      "7731  1751788    DOW                           Dow Inc.     NYSE\n"
     ]
    }
   ],
   "source": [
    "print(all_sector_filtered)"
   ]
  },
  {
   "cell_type": "code",
   "execution_count": 16,
   "metadata": {},
   "outputs": [
    {
     "name": "stdout",
     "output_type": "stream",
     "text": [
      "Empty DataFrame\n",
      "Columns: [CIK, Ticker, Name, Exchange]\n",
      "Index: []\n"
     ]
    }
   ],
   "source": [
    "print(all_sector_filtered[(all_sector_filtered['CIK'].isnull()) | (all_sector_filtered['CIK'] == 0)])"
   ]
  },
  {
   "cell_type": "code",
   "execution_count": 17,
   "metadata": {},
   "outputs": [],
   "source": [
    "energy_filtered.to_csv('../data/tickers/energy_mapping.csv', index=False)\n",
    "materials_filtered.to_csv('../data/tickers/materials_mapping.csv', index=False)\n",
    "industrials_filtered.to_csv('../data/tickers/industrials_mapped.csv', index=False)\n",
    "consumer_cyclical_filtered.to_csv('../data/tickers/consumer_cyclical_mapped.csv', index=False)\n",
    "consumer_discretionary_filtered.to_csv('../data/tickers/consumer_discretionary_mapped.csv', index=False)\n",
    "healthcare_filtered.to_csv('../data/tickers/healthcare_mapped.csv', index=False)\n",
    "financials_filtered.to_csv('../data/tickers/financials_mapped.csv', index=False)\n",
    "information_tech_filtered.to_csv('../data/tickers/information_tech_mapped.csv', index=False)\n",
    "communication_filtered.to_csv('../data/tickers/communication_mapped.csv', index=False)\n",
    "utilities_filtered.to_csv('../data/tickers/utilities_mapped.csv', index=False)\n",
    "real_estate_filtered.to_csv('../data/tickers/real_estate_mapped.csv', index=False)\n",
    "\n",
    "all_sector_filtered.to_csv('../data/tickers/all_sector_mapped.csv', index=False)"
   ]
  }
 ],
 "metadata": {
  "kernelspec": {
   "display_name": "Python 3",
   "language": "python",
   "name": "python3"
  },
  "language_info": {
   "codemirror_mode": {
    "name": "ipython",
    "version": 3
   },
   "file_extension": ".py",
   "mimetype": "text/x-python",
   "name": "python",
   "nbconvert_exporter": "python",
   "pygments_lexer": "ipython3",
   "version": "3.9.6"
  }
 },
 "nbformat": 4,
 "nbformat_minor": 2
}

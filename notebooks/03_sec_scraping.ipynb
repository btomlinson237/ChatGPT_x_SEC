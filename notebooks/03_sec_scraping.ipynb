{
 "cells": [
  {
   "cell_type": "code",
   "execution_count": 1,
   "metadata": {},
   "outputs": [],
   "source": [
    "import requests\n",
    "import re\n",
    "from datetime import datetime"
   ]
  },
  {
   "cell_type": "code",
   "execution_count": 2,
   "metadata": {},
   "outputs": [],
   "source": [
    "cik_num = '789019' # currently AAPL (Apple Inc)"
   ]
  },
  {
   "cell_type": "code",
   "execution_count": 3,
   "metadata": {},
   "outputs": [],
   "source": [
    "base_url = r\"https://www.sec.gov/Archives/edgar/data\"\n",
    "HEADERS = {\n",
    "    'User-Agent': 'Mozilla/5.0 (iPad; CPU OS 12_2 like Mac OS X) AppleWebKit/605.1.15 (KHTML, like Gecko) Mobile/15E148'\n",
    "}"
   ]
  },
  {
   "cell_type": "code",
   "execution_count": 4,
   "metadata": {},
   "outputs": [],
   "source": [
    "# Get the filings in JSON format\n",
    "filings_url = f\"{base_url}/{cik_num}/index.json\"\n",
    "content = requests.get(filings_url, headers=HEADERS)\n",
    "decoded_content = content.json()"
   ]
  },
  {
   "cell_type": "code",
   "execution_count": 5,
   "metadata": {},
   "outputs": [],
   "source": [
    "# Define the desired form types\n",
    "desired_form_types = ['10-K', '10-Q']\n",
    "\n",
    "# Get the current year\n",
    "current_year = datetime.now().year"
   ]
  },
  {
   "cell_type": "code",
   "execution_count": 11,
   "metadata": {},
   "outputs": [
    {
     "name": "stdout",
     "output_type": "stream",
     "text": [
      "{'directory': {'item': [{'last-modified': '2023-10-26 12:52:13', 'name': '0001214659-23-013902-index-headers.html', 'type': 'text.gif', 'size': ''}, {'last-modified': '2023-10-26 12:52:13', 'name': '0001214659-23-013902-index.html', 'type': 'text.gif', 'size': ''}, {'last-modified': '2023-10-26 12:52:13', 'name': '0001214659-23-013902.txt', 'type': 'text.gif', 'size': ''}, {'last-modified': '2023-10-26 12:52:13', 'name': 'asyousowlogo.jpg', 'type': 'image2.gif', 'size': '8466'}, {'last-modified': '2023-10-26 12:52:13', 'name': 'p1026230px14a6g.htm', 'type': 'text.gif', 'size': '62058'}], 'name': '/Archives/edgar/data/789019/000121465923013902', 'parent-dir': '/Archives/edgar/data/789019'}}\n"
     ]
    }
   ],
   "source": [
    "# Initialize a list to store the relevant filings\n",
    "relevant_filings = []\n",
    "\n",
    "# Iterate through the filings\n",
    "for filing_number in decoded_content['directory']['item'][:1]:\n",
    "    filing_num = filing_number['name']\n",
    "    \n",
    "    # Define the filing URL in JSON format\n",
    "    filing_url = f\"{base_url}/{cik_num}/{filing_num}/index.json\"\n",
    "\n",
    "    # Get the documents submitted for that filing\n",
    "    content = requests.get(filing_url, headers=HEADERS)\n",
    "    document_content = content.json()\n",
    "\n",
    "    # Iterate through the documents in the filing\n",
    "    for document in document_content['directory']['item']:\n",
    "        document_name = document['name']\n",
    "\n",
    "        # Check if the document is a \".txt\" file\n",
    "        if document_name.endswith('.txt'):\n",
    "            # Define the URL of the \".txt\" file\n",
    "            txt_file_url = f\"{base_url}/{cik_num}/{filing_num}/{document_name}\"\n",
    "\n",
    "            # Get the contents of the \".txt\" file\n",
    "            txt_file_content = requests.get(txt_file_url, headers=HEADERS).text\n",
    "\n",
    "            # Extract the filing date using a regular expression\n",
    "            match_date = re.search(r'(\\d{4})(\\d{2})(\\d{2})', document_name)\n",
    "            print(document_content)\n",
    "            if match_date:\n",
    "                year, month, day = match_date.groups()\n",
    "                filing_date = f\"{year}-{month}-{day}\"\n",
    "                filing_year = int(year)\n",
    "\n",
    "                # Check if the filing is a 10-K or 10-Q for the current year\n",
    "                if (\n",
    "                    filing_year == current_year\n",
    "                    and any(form_type in txt_file_content for form_type in desired_form_types)\n",
    "                ):\n",
    "                    relevant_filings.append({\n",
    "                        \"date\": filing_date,\n",
    "                        \"form_type\": re.search(r'FORM TYPE:[^\\n]*\\n([^\\n]*)', txt_file_content).group(1).strip(),\n",
    "                        \"file_url\": txt_file_url,\n",
    "                    })"
   ]
  },
  {
   "cell_type": "code",
   "execution_count": 16,
   "metadata": {},
   "outputs": [
    {
     "name": "stdout",
     "output_type": "stream",
     "text": [
      "[]\n"
     ]
    }
   ],
   "source": [
    "print(relevant_filings)"
   ]
  }
 ],
 "metadata": {
  "kernelspec": {
   "display_name": "Python 3",
   "language": "python",
   "name": "python3"
  },
  "language_info": {
   "codemirror_mode": {
    "name": "ipython",
    "version": 3
   },
   "file_extension": ".py",
   "mimetype": "text/x-python",
   "name": "python",
   "nbconvert_exporter": "python",
   "pygments_lexer": "ipython3",
   "version": "3.9.6"
  }
 },
 "nbformat": 4,
 "nbformat_minor": 2
}
